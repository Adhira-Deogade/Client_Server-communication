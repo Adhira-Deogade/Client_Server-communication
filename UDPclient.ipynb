{
 "cells": [
  {
   "cell_type": "code",
   "execution_count": 1,
   "metadata": {},
   "outputs": [
    {
     "name": "stdout",
     "output_type": "stream",
     "text": [
      "Enter lower case sentence: adhira\n",
      "ADHIRA\n",
      "('127.0.0.1', 1234)\n"
     ]
    }
   ],
   "source": [
    "# Include the socket library for networking\n",
    "import socket\n",
    "import sys\n",
    "\n",
    "# Set server IP address and server socket port number\n",
    "ServerName = 'localhost' # Could be IP address or host name of sever(website)\n",
    "ServerPort = 1234 # integer\n",
    "\n",
    "# Create client socket\n",
    "ClientSocket = socket.socket(socket.AF_INET, socket.SOCK_DGRAM) # IPv4, UDP socket\n",
    "# not specifying client port number, this job is left for the OS to do it for us.\n",
    "\n",
    "# Creating message\n",
    "message = raw_input('Enter lower case sentence: ')\n",
    "\n",
    "# Send the message\n",
    "ClientSocket.sendto(message,(ServerName,ServerPort)) # server address also attached, but not manually, but automatically by the code.\n",
    "\n",
    "#Wait for receiving reply from Server\n",
    "modified_message, ServerAddress = ClientSocket.recvfrom(2048) # reply stored in modified_message \n",
    "# & message source address (not required) anyways stored in ServerAddress\n",
    "\n",
    "# Print message\n",
    "print modified_message\n",
    "print ServerAddress\n",
    "# Close client socket\n",
    "ClientSocket.close()\n",
    "\n",
    "\n"
   ]
  },
  {
   "cell_type": "code",
   "execution_count": null,
   "metadata": {
    "collapsed": true
   },
   "outputs": [],
   "source": []
  }
 ],
 "metadata": {
  "kernelspec": {
   "display_name": "Python 2",
   "language": "python",
   "name": "python2"
  },
  "language_info": {
   "codemirror_mode": {
    "name": "ipython",
    "version": 2
   },
   "file_extension": ".py",
   "mimetype": "text/x-python",
   "name": "python",
   "nbconvert_exporter": "python",
   "pygments_lexer": "ipython2",
   "version": "2.7.13"
  }
 },
 "nbformat": 4,
 "nbformat_minor": 2
}
