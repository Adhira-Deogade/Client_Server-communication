{
 "cells": [
  {
   "cell_type": "code",
   "execution_count": null,
   "metadata": {},
   "outputs": [
    {
     "name": "stdout",
     "output_type": "stream",
     "text": [
      "The server is ready to receive\n",
      "('127.0.0.1', 61434)\n",
      "1234\n",
      "('127.0.0.1', 56689)\n",
      "1234\n",
      "('127.0.0.1', 58345)\n",
      "1234\n",
      "('127.0.0.1', 64608)\n",
      "1234\n"
     ]
    }
   ],
   "source": [
    "#  UDP server\n",
    "# include libraries\n",
    "import socket\n",
    "import sys\n",
    "\n",
    "# Create server\n",
    "ServerName = 'localhost'\n",
    "ServerPort = 1234\n",
    "\n",
    "# Create server socket\n",
    "ServerAddress = (ServerName, ServerPort)\n",
    "ServerSocket = socket.socket(socket.AF_INET, socket.SOCK_DGRAM) # IPv4, UDP socket\n",
    "\n",
    "# Associate server port number with the socket\n",
    "ServerSocket.bind(ServerAddress)  # anything sent to this port number will be received by this server\n",
    "                  \n",
    "print 'The server is ready to receive'\n",
    "\n",
    "# For continuous receival of messages\n",
    "\n",
    "while 1:\n",
    "                  message, ClientAddress = ServerSocket.recvfrom(2048) # receive the message from client along with source address\n",
    "                  print ClientAddress\n",
    "                  print ServerPort \n",
    "                  modifiedmessage = message.upper() # Capitalize the message\n",
    "                  ServerSocket.sendto(modifiedmessage,ClientAddress) # Attaches client address to the message and sends\n",
    "                  # Waits for other messages.\n",
    "                    \n",
    "                    \n",
    "                 \n",
    "\n",
    "                  "
   ]
  },
  {
   "cell_type": "code",
   "execution_count": null,
   "metadata": {
    "collapsed": true
   },
   "outputs": [],
   "source": []
  }
 ],
 "metadata": {
  "kernelspec": {
   "display_name": "Python 2",
   "language": "python",
   "name": "python2"
  },
  "language_info": {
   "codemirror_mode": {
    "name": "ipython",
    "version": 2
   },
   "file_extension": ".py",
   "mimetype": "text/x-python",
   "name": "python",
   "nbconvert_exporter": "python",
   "pygments_lexer": "ipython2",
   "version": "2.7.13"
  }
 },
 "nbformat": 4,
 "nbformat_minor": 2
}
