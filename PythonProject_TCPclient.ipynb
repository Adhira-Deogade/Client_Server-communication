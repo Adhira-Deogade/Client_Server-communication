{
 "cells": [
  {
   "cell_type": "code",
   "execution_count": null,
   "metadata": {
    "collapsed": true
   },
   "outputs": [],
   "source": [
    "# Import socket library\n",
    "import socket\n",
    "\n",
    "# Set server to port\n",
    "ServerName = 'localhost'\n",
    "ServerPort = 8888\n",
    "ServerAddress = (ServerName, ServerPort)\n",
    "\n",
    "# Create client\n",
    "clientSocket = socket.socket(socket.AF_INET, socket.SOCK_STREAM) # IPv4, TCP socket\n",
    "\n",
    "# Ask for connection to server\n",
    "clientSocket.connect(ServerAddress)\n",
    "\n",
    "# Receive from server\n",
    "modified_sent = clientSocket.recv(8888)\n",
    "\n",
    "# Print reply\n",
    "print modified_sent"
   ]
  },
  {
   "cell_type": "code",
   "execution_count": null,
   "metadata": {
    "collapsed": true
   },
   "outputs": [],
   "source": []
  }
 ],
 "metadata": {
  "kernelspec": {
   "display_name": "Python 2",
   "language": "python",
   "name": "python2"
  },
  "language_info": {
   "codemirror_mode": {
    "name": "ipython",
    "version": 2
   },
   "file_extension": ".py",
   "mimetype": "text/x-python",
   "name": "python",
   "nbconvert_exporter": "python",
   "pygments_lexer": "ipython2",
   "version": "2.7.13"
  }
 },
 "nbformat": 4,
 "nbformat_minor": 2
}
