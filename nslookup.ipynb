{
 "cells": [
  {
   "cell_type": "code",
   "execution_count": null,
   "metadata": {
    "collapsed": true
   },
   "outputs": [],
   "source": [
    "\n",
    "# Import libraries\n",
    "from sys import argv\n",
    "import os\n",
    "import subprocess\n",
    "\n",
    "# Declare arguments\n",
    "ip1 = argv[1]\n",
    "#ip2 = argv[2]\n",
    "\n",
    "# Print IP addresses\n",
    "print ip1, \"line1\"\n",
    "#print ip2, \"line2\"\n",
    "\n",
    "# Doing nslookup\n",
    "#result = os.popen('nslookup ' + ip_address1).read()\n",
    "command = ['nslookup', ip1]\n",
    "p = subprocess.Popen(command, stdout=subprocess.PIPE, stderr=None )\n",
    "\n",
    "output = p.communicate()\n",
    "\n",
    "print output[0]\n",
    "\n",
    "\n"
   ]
  }
 ],
 "metadata": {
  "kernelspec": {
   "display_name": "Python 2",
   "language": "python",
   "name": "python2"
  },
  "language_info": {
   "codemirror_mode": {
    "name": "ipython",
    "version": 2
   },
   "file_extension": ".py",
   "mimetype": "text/x-python",
   "name": "python",
   "nbconvert_exporter": "python",
   "pygments_lexer": "ipython2",
   "version": "2.7.13"
  }
 },
 "nbformat": 4,
 "nbformat_minor": 2
}
